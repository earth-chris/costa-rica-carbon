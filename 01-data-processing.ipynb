{
 "cells": [
  {
   "cell_type": "markdown",
   "metadata": {},
   "source": [
    "# data processing notebook\n",
    "\n",
    "This notebook performs basic geospatial operations to convert between data types and prepare all the materials for modeling to begin.\n",
    "\n",
    "Steps:\n",
    "\n",
    "* Compute average tree heights on a per-pixel basis\n",
    "    * sum all tree height measurements from each location\n",
    "    * divide by the total number of measurements made\n",
    "* Stack and consistently mask the covariate datasets\n",
    "* Apply that same mask to the tree height data\n",
    "* Split the covariate stack into smaller tiles to manage memory when applying the full model"
   ]
  },
  {
   "cell_type": "code",
   "execution_count": null,
   "metadata": {},
   "outputs": [],
   "source": [
    "# import packages\n",
    "import os\n",
    "import ccb\n",
    "import gdal\n",
    "import numpy as np\n",
    "import otbApplication as otb\n",
    "\n",
    "# raise gdal runtime errors\n",
    "gdal.UseExceptions()\n",
    "\n",
    "# set the working directory\n",
    "wd = 'data'\n",
    "\n",
    "# set the nodata value\n",
    "nodata = -9999\n",
    "\n",
    "# set the output tile size\n",
    "tile_size = 1024"
   ]
  },
  {
   "cell_type": "code",
   "execution_count": null,
   "metadata": {},
   "outputs": [],
   "source": [
    "# set the vector we'll compute height values from\n",
    "vector_path = os.path.join(wd, 'lvis-lidar-pts-32616.shp')\n",
    "\n",
    "# set the raster that determines the spatial extent and pixel size of the output files\n",
    "raster_path = os.path.join(wd, 'tree-cover.tif')\n",
    "\n",
    "# read the raster metadata\n",
    "raster = ccb.read.raster(raster_path)"
   ]
  },
  {
   "cell_type": "markdown",
   "metadata": {},
   "source": [
    "## Computing average tree heights\n",
    "Everything here assumes the input raster and vector are the same projection. Double check that this is still true if you're changing any of the input files!"
   ]
  },
  {
   "cell_type": "code",
   "execution_count": null,
   "metadata": {},
   "outputs": [],
   "source": [
    "# first, create a temporary data directory to store outputs\n",
    "td = os.path.join(wd, 'temp')\n",
    "if not os.path.exists(td):\n",
    "    os.mkdir(td)"
   ]
  },
  {
   "cell_type": "code",
   "execution_count": null,
   "metadata": {},
   "outputs": [],
   "source": [
    "# next, compute the sum of all height measurements\n",
    "height_sum_path = os.path.join(td, 'lvis-height-sum.tif')\n",
    "rasterize_options = gdal.RasterizeOptions(\n",
    "    format = 'GTiff',\n",
    "    outputType = gdal.GDT_Float32,\n",
    "    creationOptions = ['COMPRESS=DEFLATE', 'TILED=YES'],\n",
    "    noData = nodata,\n",
    "    initValues = 0,\n",
    "    xRes = raster.xps,\n",
    "    yRes = np.abs(raster.yps),\n",
    "    outputBounds = [\n",
    "        raster.xmin,\n",
    "        raster.ymin,\n",
    "        raster.xmax,\n",
    "        raster.ymax\n",
    "    ],\n",
    "    attribute = 'tree-heigh',\n",
    "    options = ['-add']\n",
    ")\n",
    "\n",
    "# then run the rasterization command\n",
    "print('computing sum of tree height values')\n",
    "print('estimated time: 30s')\n",
    "ref = gdal.Rasterize(\n",
    "    height_sum_path,\n",
    "    vector_path,\n",
    "    options = rasterize_options\n",
    ")\n",
    "\n",
    "# and write to disk\n",
    "ref.FlushCache()\n",
    "print('done!')"
   ]
  },
  {
   "cell_type": "code",
   "execution_count": null,
   "metadata": {},
   "outputs": [],
   "source": [
    "# next, compute the count of all height measurements\n",
    "height_count_path = os.path.join(td, 'lvis-height-count.tif')\n",
    "rasterize_options = gdal.RasterizeOptions(\n",
    "    format = 'GTiff',\n",
    "    outputType = gdal.GDT_Float32,\n",
    "    creationOptions = ['COMPRESS=DEFLATE', 'TILED=YES'],\n",
    "    noData = nodata,\n",
    "    initValues = 0,\n",
    "    xRes = raster.xps,\n",
    "    yRes = np.abs(raster.yps),\n",
    "    outputBounds = [\n",
    "        raster.xmin,\n",
    "        raster.ymin,\n",
    "        raster.xmax,\n",
    "        raster.ymax\n",
    "    ],\n",
    "    burnValues = [1],\n",
    "    options = ['-add']\n",
    ")\n",
    "\n",
    "# then run the rasterization command\n",
    "print('computing count of tree height values')\n",
    "print('estimated time: 30s')\n",
    "ref = gdal.Rasterize(\n",
    "    height_count_path,\n",
    "    vector_path,\n",
    "    options = rasterize_options\n",
    ")\n",
    "\n",
    "# and write to disk\n",
    "ref.FlushCache()\n",
    "print('done!')"
   ]
  },
  {
   "cell_type": "code",
   "execution_count": null,
   "metadata": {},
   "outputs": [],
   "source": [
    "# finally, divide the summed height by the number of measurements to get the average\n",
    "tree_height_path = os.path.join(wd, 'tree-height-lvis.tif')\n",
    "creation_options = \"&gdal:co:COMPRESS=DEFLATE&gdal:co:TILED=YES\"\n",
    "output_file = '{file}?{options}'.format(file = tree_height_path, options = creation_options)\n",
    "\n",
    "# create the band math expression\n",
    "expression = \"(im1b1 > 0 ? im1b1 / im2b1 : {nodata})\".format(nodata = nodata)\n",
    "\n",
    "# set up the orfeo toolbox command\n",
    "band_math = otb.Registry.CreateApplication(\"BandMath\")\n",
    "band_math.SetParameterStringList(\"il\", [height_sum_path, height_count_path])\n",
    "band_math.SetParameterString(\"out\", output_file)\n",
    "band_math.SetParameterString(\"exp\", expression)\n",
    "\n",
    "# run the command\n",
    "band_math.ExecuteAndWriteOutput()"
   ]
  },
  {
   "cell_type": "code",
   "execution_count": null,
   "metadata": {},
   "outputs": [],
   "source": [
    "# then manually set the no-data value\n",
    "ref = gdal.Open(tree_height_path, gdal.GA_Update)\n",
    "band = ref.GetRasterBand(1)\n",
    "band.SetNoDataValue(nodata)\n",
    "band.FlushCache()\n",
    "ref.FlushCache()\n",
    "band = None\n",
    "ref = None"
   ]
  },
  {
   "cell_type": "markdown",
   "metadata": {},
   "source": [
    "## Stacking and masking covariate data\n",
    "Since there are different no-data values, and different pixels with no-data, we'll consistently stack and mask all the data into a single big file. Hooray!\n",
    "\n",
    "### First, generate a comprehensive mask for all covariate data"
   ]
  },
  {
   "cell_type": "code",
   "execution_count": null,
   "metadata": {},
   "outputs": [],
   "source": [
    "# generate the tree cover mask\n",
    "tree_cover_path = os.path.join(wd, 'tree-cover.tif')\n",
    "tree_cover_mask = os.path.join(td, 'tree-cover-mask.tif?')\n",
    "output_raster = '{file}?{options}'.format(file = tree_cover_mask, options = creation_options)\n",
    "\n",
    "# set the otb command\n",
    "masking = otb.Registry.CreateApplication(\"ManageNoData\")\n",
    "masking.SetParameterString(\"in\", tree_cover_path)\n",
    "masking.SetParameterString(\"out\", tree_cover_mask)\n",
    "masking.SetParameterOutputImagePixelType(\"out\", 1)\n",
    "masking.SetParameterString(\"mode\", \"buildmask\")\n",
    "\n",
    "# run it\n",
    "masking.ExecuteAndWriteOutput()"
   ]
  },
  {
   "cell_type": "code",
   "execution_count": null,
   "metadata": {},
   "outputs": [],
   "source": [
    "# generate the fractional cover mask\n",
    "fractional_cover_path = os.path.join(wd, 'fcover.tif')\n",
    "fractional_cover_mask = os.path.join(td, 'fcover-mask.tif?')\n",
    "output_raster = '{file}?{options}'.format(file = fractional_cover_mask, options = creation_options)\n",
    "\n",
    "# set the otb command\n",
    "masking = otb.Registry.CreateApplication(\"ManageNoData\")\n",
    "masking.SetParameterString(\"in\", fractional_cover_path)\n",
    "masking.SetParameterString(\"out\", fractional_cover_mask)\n",
    "masking.SetParameterOutputImagePixelType(\"out\", 1)\n",
    "masking.SetParameterString(\"mode\", \"buildmask\")\n",
    "\n",
    "# run it\n",
    "masking.ExecuteAndWriteOutput()"
   ]
  },
  {
   "cell_type": "code",
   "execution_count": null,
   "metadata": {},
   "outputs": [],
   "source": [
    "# generate the radar mask\n",
    "radar_path = os.path.join(wd, 'radar.tif')\n",
    "radar_mask = os.path.join(td, 'radar-mask.tif?')\n",
    "output_raster = '{file}?{options}'.format(file = radar_mask, options = creation_options)\n",
    "\n",
    "# set the otb command\n",
    "masking = otb.Registry.CreateApplication(\"ManageNoData\")\n",
    "masking.SetParameterString(\"in\", radar_path)\n",
    "masking.SetParameterString(\"out\", radar_mask)\n",
    "masking.SetParameterOutputImagePixelType(\"out\", 1)\n",
    "masking.SetParameterString(\"mode\", \"buildmask\")\n",
    "masking.SetParameterValue(\"usenan\", True)\n",
    "\n",
    "# run it\n",
    "masking.ExecuteAndWriteOutput()"
   ]
  },
  {
   "cell_type": "code",
   "execution_count": null,
   "metadata": {},
   "outputs": [],
   "source": [
    "# and a mask for extreme radar values\n",
    "extreme_mask = os.path.join(td, 'radar-mask-extreme.tif?')\n",
    "output_raster = '{file}?{options}'.format(file = extreme_mask, options = creation_options)\n",
    "\n",
    "expression = \"(im1b2 < -100 ? 0 : 1) * (im1b1 > 100 ? 0 : 1)\"\n",
    "\n",
    "band_math = otb.Registry.CreateApplication(\"BandMath\")\n",
    "band_math.SetParameterStringList(\"il\", [radar_path])\n",
    "band_math.SetParameterString(\"out\", output_raster)\n",
    "masking.SetParameterOutputImagePixelType(\"out\", 1)\n",
    "band_math.SetParameterString(\"exp\", expression)\n",
    "\n",
    "band_math.ExecuteAndWriteOutput()"
   ]
  },
  {
   "cell_type": "code",
   "execution_count": null,
   "metadata": {},
   "outputs": [],
   "source": [
    "# now we'll create a single, comprehensive mask to apply\n",
    "final_mask = os.path.join(td, 'joint-mask.tif')\n",
    "output_raster = '{file}?{options}'.format(file = final_mask, options = creation_options)\n",
    "mask_files = [tree_cover_mask, radar_mask, extreme_mask]\n",
    "\n",
    "# auto generate the expression\n",
    "ims = [\"im{}b1\".format(i + 1) for i in range(len(mask_files))]\n",
    "expression = \" * \".join(ims)\n",
    "\n",
    "# create and run the otb app\n",
    "band_math = otb.Registry.CreateApplication(\"BandMath\")\n",
    "band_math.SetParameterStringList(\"il\", mask_files)\n",
    "band_math.SetParameterString(\"out\", output_raster)\n",
    "masking.SetParameterOutputImagePixelType(\"out\", 1)\n",
    "band_math.SetParameterString(\"exp\", expression)\n",
    "\n",
    "band_math.ExecuteAndWriteOutput()"
   ]
  },
  {
   "cell_type": "markdown",
   "metadata": {},
   "source": [
    "### Next, stack all covariate data into a single file and mask it\n",
    "This should take ~1 minute per cell"
   ]
  },
  {
   "cell_type": "code",
   "execution_count": null,
   "metadata": {},
   "outputs": [],
   "source": [
    "covariate_paths = [radar_path, tree_cover_path, fractional_cover_path]\n",
    "stacked_path = os.path.join(td, 'covariate-stack.tif')\n",
    "output_raster = '{file}?{options}'.format(file = stacked_path, options = creation_options)\n",
    "\n",
    "# otb\n",
    "concatenate = otb.Registry.CreateApplication(\"ConcatenateImages\")\n",
    "concatenate.SetParameterStringList(\"il\", covariate_paths)\n",
    "concatenate.SetParameterString(\"out\", output_raster)\n",
    "\n",
    "concatenate.ExecuteAndWriteOutput()\n",
    "\n",
    "# and manually set the no-data value\n",
    "ref = gdal.Open(stacked_path, gdal.GA_Update)\n",
    "band = ref.GetRasterBand(1)\n",
    "band.SetNoDataValue(nodata)\n",
    "band.FlushCache()\n",
    "ref.FlushCache()\n",
    "band = None\n",
    "ref = None"
   ]
  },
  {
   "cell_type": "code",
   "execution_count": null,
   "metadata": {},
   "outputs": [],
   "source": [
    "# and manually set the no-data value\n",
    "ref = gdal.Open(stacked_path, gdal.GA_Update)\n",
    "band = ref.GetRasterBand(1)\n",
    "band.SetNoDataValue(nodata)\n",
    "band.FlushCache()\n",
    "ref.FlushCache()\n",
    "band = None\n",
    "ref = None"
   ]
  },
  {
   "cell_type": "code",
   "execution_count": null,
   "metadata": {},
   "outputs": [],
   "source": [
    "# then apply the full mask to the stacked covariates\n",
    "masked_path = os.path.join(wd, 'covariate-stack.tif')\n",
    "output_raster = '{file}?{options}'.format(file = masked_path, options = creation_options)\n",
    "\n",
    "masking = otb.Registry.CreateApplication(\"ManageNoData\")\n",
    "masking.SetParameterString(\"in\", stacked_path)\n",
    "masking.SetParameterString(\"out\", output_raster)\n",
    "masking.SetParameterString(\"mode\", \"apply\")\n",
    "masking.SetParameterString(\"mode.apply.mask\", final_mask)\n",
    "\n",
    "# run it\n",
    "masking.ExecuteAndWriteOutput()"
   ]
  },
  {
   "cell_type": "markdown",
   "metadata": {},
   "source": [
    "## Apply the covariate mask to the LVIS average tree height data\n",
    "This saves us time in reading/masking later in the `modeling` notebook"
   ]
  },
  {
   "cell_type": "code",
   "execution_count": null,
   "metadata": {},
   "outputs": [],
   "source": [
    "tree_height_path = os.path.join(wd, 'tree-height-lvis.tif')\n",
    "\n",
    "# set the output path\n",
    "tree_height_masked = tree_height_path[:-4] + '-masked.tif'\n",
    "output_raster = '{file}?{options}'.format(file = tree_height_masked, options = creation_options)\n",
    "\n",
    "# set up otb\n",
    "masking = otb.Registry.CreateApplication(\"ManageNoData\")\n",
    "masking.SetParameterString(\"in\", tree_height_path)\n",
    "masking.SetParameterString(\"out\", output_raster)\n",
    "masking.SetParameterString(\"mode\", \"apply\")\n",
    "masking.SetParameterString(\"mode.apply.mask\", final_mask)\n",
    "\n",
    "# run it\n",
    "masking.ExecuteAndWriteOutput()"
   ]
  },
  {
   "cell_type": "markdown",
   "metadata": {},
   "source": [
    "## Split the stacked covariate data into tiles\n",
    "Since the covariate dataset is very large, applying the model in-memory won't work unless you're sporting some beefy RAM. \n",
    "\n",
    "To get around this, we'll chunk the data up into smaller tiles and apply the model to those instead."
   ]
  },
  {
   "cell_type": "code",
   "execution_count": null,
   "metadata": {},
   "outputs": [],
   "source": [
    "# create a tile directory\n",
    "tile_directory = os.path.join(wd, 'tiles')\n",
    "if not os.path.exists(tile_directory):\n",
    "    os.mkdir(tile_directory)"
   ]
  },
  {
   "cell_type": "code",
   "execution_count": null,
   "metadata": {},
   "outputs": [],
   "source": [
    "# calculate how many tiles we have to create\n",
    "width = raster.xmax - raster.xmin\n",
    "height = raster.ymax - raster.ymin\n",
    "nx_tiles = np.floor(width / tile_size)\n",
    "ny_tiles = np.floor(height / tile_size)\n",
    "\n",
    "# set tile lower left coordinates in geographic space\n",
    "xmins = (np.arange(nx_tiles) * tile_size) + raster.xmin\n",
    "ymins = (np.arange(ny_tiles) * tile_size) + raster.ymin"
   ]
  },
  {
   "cell_type": "code",
   "execution_count": null,
   "metadata": {},
   "outputs": [],
   "source": [
    "# loop through each of these lower left corners, set the tile boundaries, and use gdal warp to clip each one out\n",
    "for x, xmin in enumerate(xmins):\n",
    "    for y, ymin in enumerate(ymins):\n",
    "        \n",
    "        # report progress\n",
    "        if (x % 50 == 0) and (y % 50 == 0):\n",
    "            print(\"Running tile x: {x:03d} / {nx:03d} and y: {y:03d} / {ny:03d}\".format(\n",
    "                x = int(x), \n",
    "                y = int(y),\n",
    "                nx = int(len(xmins)),\n",
    "                ny = int(len(ymins))\n",
    "            ))\n",
    "            \n",
    "        # set the tile name\n",
    "        warp_output = os.path.join(tile_directory, \"covariates-{x:03d}-{y:03d}.tif\".format(x = int(x), y = int(y)))\n",
    "        \n",
    "        # set the max tile bounds\n",
    "        xmax = xmin + tile_size\n",
    "        ymax = ymin + tile_size\n",
    "        \n",
    "        # set the warp options\n",
    "        warp_options = gdal.WarpOptions(\n",
    "            format = 'GTiff',\n",
    "            creationOptions = ['COMPRESS=DEFLATE', 'TILED=YES'],\n",
    "            outputBounds = [\n",
    "                xmin,\n",
    "                ymin,\n",
    "                xmax,\n",
    "                ymax\n",
    "            ],\n",
    "            resampleAlg = gdal.GRA_NearestNeighbour\n",
    "        )\n",
    "        \n",
    "        # run the operation\n",
    "        gdal.Warp(\n",
    "            warp_output,\n",
    "            masked_path,\n",
    "            options = warp_options\n",
    "        )"
   ]
  },
  {
   "cell_type": "code",
   "execution_count": null,
   "metadata": {},
   "outputs": [],
   "source": [
    "# then make a pass on each file and delete it if there are no good data values inside\n",
    "for x, xmin in enumerate(xmins):\n",
    "    for y, ymin in enumerate(ymins):\n",
    "        \n",
    "        # get the file name\n",
    "        tile_path = os.path.join(tile_directory, \"covariates-{x:03d}-{y:03d}.tif\".format(x = int(x), y = int(y)))\n",
    "        \n",
    "        # read the data into memory\n",
    "        tile = ccb.read.raster(tile_path)\n",
    "        tile.read_band(1)\n",
    "        \n",
    "        # see if every value is no-data, and delete if so\n",
    "        nd = tile.data == tile.nodata\n",
    "        if nd.sum() == (tile.nx * tile.ny):\n",
    "            os.remove(tile_path)"
   ]
  }
 ],
 "metadata": {
  "kernelspec": {
   "display_name": "Python 3",
   "language": "python",
   "name": "python3"
  },
  "language_info": {
   "codemirror_mode": {
    "name": "ipython",
    "version": 3
   },
   "file_extension": ".py",
   "mimetype": "text/x-python",
   "name": "python",
   "nbconvert_exporter": "python",
   "pygments_lexer": "ipython3",
   "version": "3.7.6"
  }
 },
 "nbformat": 4,
 "nbformat_minor": 4
}
