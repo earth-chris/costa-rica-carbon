{
 "cells": [
  {
   "cell_type": "markdown",
   "metadata": {},
   "source": [
    "# data processing notebook\n",
    "This notebook performs basic geospatial operations to convert between data types and prepare all the materials for modeling to begin.\n",
    "\n",
    "Steps:\n",
    "* Compute average tree heights on a per-pixel basis\n",
    "    * sum all tree height measurements from each location\n",
    "    * divide by the total number of measurements made\n",
    "* Um, *shuffles nervously*, that's it for now!"
   ]
  },
  {
   "cell_type": "code",
   "execution_count": 26,
   "metadata": {},
   "outputs": [],
   "source": [
    "# import packages\n",
    "import os\n",
    "import ccb\n",
    "import gdal\n",
    "import numpy as np\n",
    "import otbApplication as otb\n",
    "\n",
    "# raise gdal runtime errors\n",
    "gdal.UseExceptions()\n",
    "\n",
    "# set the working directory\n",
    "wd = 'data'\n",
    "\n",
    "# set the nodata value\n",
    "nodata = -9999"
   ]
  },
  {
   "cell_type": "code",
   "execution_count": 5,
   "metadata": {},
   "outputs": [],
   "source": [
    "# set the vector we'll compute height values from\n",
    "vector_path = os.path.join(wd, 'lvis-lidar-pts-32616.shp')\n",
    "\n",
    "# set the raster that determines the spatial extent and pixel size of the output files\n",
    "raster_path = os.path.join(wd, 'tree-cover.tif')\n",
    "\n",
    "# read the raster metadata\n",
    "raster = ccb.read.raster(raster_path)"
   ]
  },
  {
   "cell_type": "markdown",
   "metadata": {},
   "source": [
    "## computing average tree heights\n",
    "Everything here assumes the input raster and vector are the same projection. Double check that this is still true if you're changing any of the input files!"
   ]
  },
  {
   "cell_type": "code",
   "execution_count": 4,
   "metadata": {},
   "outputs": [],
   "source": [
    "# first, create a temporary data directory to store outputs\n",
    "td = os.path.join(wd, 'temp')\n",
    "if not os.path.exists(td):\n",
    "    os.mkdir(td)"
   ]
  },
  {
   "cell_type": "code",
   "execution_count": 22,
   "metadata": {},
   "outputs": [
    {
     "name": "stdout",
     "output_type": "stream",
     "text": [
      "computing sum of tree height values\n",
      "estimated time: 30s\n"
     ]
    }
   ],
   "source": [
    "# next, compute the sum of all height measurements\n",
    "height_sum_path = os.path.join(td, 'lvis-height-sum.tif')\n",
    "rasterize_options = gdal.RasterizeOptions(\n",
    "    format = 'GTiff',\n",
    "    outputType = gdal.GDT_Float32,\n",
    "    creationOptions = ['COMPRESS=DEFLATE', 'TILED=YES'],\n",
    "    noData = nodata,\n",
    "    initValues = 0,\n",
    "    xRes = raster.xps,\n",
    "    yRes = np.abs(raster.yps),\n",
    "    outputBounds = [\n",
    "        raster.xmin,\n",
    "        raster.ymin,\n",
    "        raster.xmax,\n",
    "        raster.ymax\n",
    "    ],\n",
    "    attribute = 'tree-heigh',\n",
    "    options = ['-add']\n",
    ")\n",
    "\n",
    "# then run the rasterization command\n",
    "print('computing sum of tree height values')\n",
    "print('estimated time: 30s')\n",
    "ref = gdal.Rasterize(\n",
    "    height_sum_path,\n",
    "    vector_path,\n",
    "    options = rasterize_options\n",
    ")\n",
    "\n",
    "# and write to disk\n",
    "ref.FlushCache()\n",
    "print('done!')"
   ]
  },
  {
   "cell_type": "code",
   "execution_count": 23,
   "metadata": {},
   "outputs": [
    {
     "name": "stdout",
     "output_type": "stream",
     "text": [
      "computing count of tree height values\n",
      "estimated time: 30s\n"
     ]
    }
   ],
   "source": [
    "# next, compute the count of all height measurements\n",
    "height_count_path = os.path.join(td, 'lvis-height-count.tif')\n",
    "rasterize_options = gdal.RasterizeOptions(\n",
    "    format = 'GTiff',\n",
    "    outputType = gdal.GDT_Float32,\n",
    "    creationOptions = ['COMPRESS=DEFLATE', 'TILED=YES'],\n",
    "    noData = nodata,\n",
    "    initValues = 0,\n",
    "    xRes = raster.xps,\n",
    "    yRes = np.abs(raster.yps),\n",
    "    outputBounds = [\n",
    "        raster.xmin,\n",
    "        raster.ymin,\n",
    "        raster.xmax,\n",
    "        raster.ymax\n",
    "    ],\n",
    "    burnValues = [1],\n",
    "    options = ['-add']\n",
    ")\n",
    "\n",
    "# then run the rasterization command\n",
    "print('computing count of tree height values')\n",
    "print('estimated time: 30s')\n",
    "ref = gdal.Rasterize(\n",
    "    height_count_path,\n",
    "    vector_path,\n",
    "    options = rasterize_options\n",
    ")\n",
    "\n",
    "# and write to disk\n",
    "ref.FlushCache()\n",
    "print('done!')"
   ]
  },
  {
   "cell_type": "code",
   "execution_count": 33,
   "metadata": {},
   "outputs": [
    {
     "name": "stdout",
     "output_type": "stream",
     "text": [
      "2020-05-17 19:49:41 (INFO) BandMath: Default RAM limit for OTB is 256 MB\n",
      "2020-05-17 19:49:41 (INFO) BandMath: GDAL maximum cache size is 801 MB\n",
      "2020-05-17 19:49:41 (INFO) BandMath: OTB will use at most 8 threads\n",
      "2020-05-17 19:49:41 (INFO) BandMath: Image #1 has 1 components\n",
      "\n",
      "2020-05-17 19:49:41 (INFO) BandMath: Image #2 has 1 components\n",
      "\n",
      "2020-05-17 19:49:41 (INFO): Estimated memory for full processing: 4903.44MB (avail.: 256 MB), optimal image partitioning: 20 blocks\n",
      "2020-05-17 19:49:41 (INFO): File data/tree-height-lvis.tif will be written in 25 blocks of 2816x2560 pixels\n",
      "Writing data/tree-height-lvis.tif?&gdal:co:COMPRESS=DEFLATE&gdal:co:TILED=YES...: 100% [**************************************************] (18s)\n"
     ]
    },
    {
     "ename": "AttributeError",
     "evalue": "module 'gdal' has no attribute 'GetRasterBand'",
     "output_type": "error",
     "traceback": [
      "\u001b[1;31m---------------------------------------------------------------------------\u001b[0m",
      "\u001b[1;31mAttributeError\u001b[0m                            Traceback (most recent call last)",
      "\u001b[1;32m<ipython-input-33-51533e978432>\u001b[0m in \u001b[0;36m<module>\u001b[1;34m\u001b[0m\n\u001b[0;32m     18\u001b[0m \u001b[1;31m# then manually set the no-data value\u001b[0m\u001b[1;33m\u001b[0m\u001b[1;33m\u001b[0m\u001b[1;33m\u001b[0m\u001b[0m\n\u001b[0;32m     19\u001b[0m \u001b[0mref\u001b[0m \u001b[1;33m=\u001b[0m \u001b[0mgdal\u001b[0m\u001b[1;33m.\u001b[0m\u001b[0mOpen\u001b[0m\u001b[1;33m(\u001b[0m\u001b[0mtree_height_path\u001b[0m\u001b[1;33m,\u001b[0m \u001b[0mgdal\u001b[0m\u001b[1;33m.\u001b[0m\u001b[0mGA_Update\u001b[0m\u001b[1;33m)\u001b[0m\u001b[1;33m\u001b[0m\u001b[1;33m\u001b[0m\u001b[0m\n\u001b[1;32m---> 20\u001b[1;33m \u001b[0mband\u001b[0m \u001b[1;33m=\u001b[0m \u001b[0mgdal\u001b[0m\u001b[1;33m.\u001b[0m\u001b[0mGetRasterBand\u001b[0m\u001b[1;33m(\u001b[0m\u001b[1;36m1\u001b[0m\u001b[1;33m)\u001b[0m\u001b[1;33m\u001b[0m\u001b[1;33m\u001b[0m\u001b[0m\n\u001b[0m\u001b[0;32m     21\u001b[0m \u001b[0mband\u001b[0m\u001b[1;33m.\u001b[0m\u001b[0mSetNoDataValue\u001b[0m\u001b[1;33m(\u001b[0m\u001b[0mnodata\u001b[0m\u001b[1;33m)\u001b[0m\u001b[1;33m\u001b[0m\u001b[1;33m\u001b[0m\u001b[0m\n\u001b[0;32m     22\u001b[0m \u001b[0mband\u001b[0m\u001b[1;33m.\u001b[0m\u001b[0mFlushCache\u001b[0m\u001b[1;33m(\u001b[0m\u001b[1;33m)\u001b[0m\u001b[1;33m\u001b[0m\u001b[1;33m\u001b[0m\u001b[0m\n",
      "\u001b[1;31mAttributeError\u001b[0m: module 'gdal' has no attribute 'GetRasterBand'"
     ]
    }
   ],
   "source": [
    "# finally, divide the summed height by the number of measurements to get the average\n",
    "tree_height_path = os.path.join(wd, 'tree-height-lvis.tif')\n",
    "creation_options = \"&gdal:co:COMPRESS=DEFLATE&gdal:co:TILED=YES\"\n",
    "output_file = '{file}?{options}'.format(file = tree_height_path, options = creation_options)\n",
    "\n",
    "# create the band math expression\n",
    "expression = \"(im1b1 > 0 ? im1b1 / im2b1 : {nodata})\".format(nodata = nodata)\n",
    "\n",
    "# set up the orfeo toolbox command\n",
    "band_math = otb.Registry.CreateApplication(\"BandMath\")\n",
    "band_math.SetParameterStringList(\"il\", [height_sum_path, height_count_path])\n",
    "band_math.SetParameterString(\"out\", output_file)\n",
    "band_math.SetParameterString(\"exp\", expression)\n",
    "\n",
    "# run the command\n",
    "band_math.ExecuteAndWriteOutput()"
   ]
  },
  {
   "cell_type": "code",
   "execution_count": 34,
   "metadata": {},
   "outputs": [],
   "source": [
    "# then manually set the no-data value\n",
    "ref = gdal.Open(tree_height_path, gdal.GA_Update)\n",
    "band = ref.GetRasterBand(1)\n",
    "band.SetNoDataValue(nodata)\n",
    "band.FlushCache()\n",
    "ref.FlushCache()\n",
    "band = None\n",
    "ref = None"
   ]
  },
  {
   "cell_type": "code",
   "execution_count": 28,
   "metadata": {},
   "outputs": [
    {
     "data": {
      "text/plain": [
       "'data/tree-height-lvis.tif?&gdal:co:COMPRESS=DEFLATE&gdal:co:TILED=YES'"
      ]
     },
     "execution_count": 28,
     "metadata": {},
     "output_type": "execute_result"
    }
   ],
   "source": [
    "tree_height_path + \"?&gdal:co:COMPRESS=DEFLATE&gdal:co:TILED=YES\""
   ]
  }
 ],
 "metadata": {
  "kernelspec": {
   "display_name": "Python 3",
   "language": "python",
   "name": "python3"
  },
  "language_info": {
   "codemirror_mode": {
    "name": "ipython",
    "version": 3
   },
   "file_extension": ".py",
   "mimetype": "text/x-python",
   "name": "python",
   "nbconvert_exporter": "python",
   "pygments_lexer": "ipython3",
   "version": "3.7.6"
  }
 },
 "nbformat": 4,
 "nbformat_minor": 4
}
