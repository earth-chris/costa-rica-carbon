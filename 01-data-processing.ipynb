{
 "cells": [
  {
   "cell_type": "markdown",
   "metadata": {},
   "source": [
    "# data processing notebook\n",
    "\n",
    "This notebook performs basic geospatial operations to convert between data types and prepare all the materials for modeling to begin.\n",
    "\n",
    "Steps:\n",
    "\n",
    "* Compute average tree heights on a per-pixel basis\n",
    "    * sum all tree height measurements from each location\n",
    "    * divide by the total number of measurements made\n",
    "* Stack and consistently mask the covariate datasets\n",
    "* Apply that same mask to the tree height data\n",
    "* Split the covariate stack into smaller tiles to manage memory when applying the full model"
   ]
  },
  {
   "cell_type": "code",
   "execution_count": 1,
   "metadata": {},
   "outputs": [],
   "source": [
    "# import packages\n",
    "import os\n",
    "import ccb\n",
    "import gdal\n",
    "import numpy as np\n",
    "import otbApplication as otb\n",
    "\n",
    "# raise gdal runtime errors\n",
    "gdal.UseExceptions()\n",
    "\n",
    "# set the working directory\n",
    "wd = 'data'\n",
    "\n",
    "# set the nodata value\n",
    "nodata = -9999\n",
    "\n",
    "# set the output tile size\n",
    "tile_size = 1024"
   ]
  },
  {
   "cell_type": "code",
   "execution_count": 8,
   "metadata": {},
   "outputs": [],
   "source": [
    "# set the vector we'll compute height values from\n",
    "vector_path = os.path.join(wd, 'lvis-lidar-pts-32616.shp')\n",
    "\n",
    "# set the raster that determines the spatial extent and pixel size of the output files\n",
    "raster_path = os.path.join(wd, 'tree-cover.tif')\n",
    "\n",
    "# read the raster metadata\n",
    "raster = ccb.read.raster(raster_path)"
   ]
  },
  {
   "cell_type": "markdown",
   "metadata": {},
   "source": [
    "## Computing average tree heights\n",
    "Everything here assumes the input raster and vector are the same projection. Double check that this is still true if you're changing any of the input files!"
   ]
  },
  {
   "cell_type": "code",
   "execution_count": 2,
   "metadata": {},
   "outputs": [],
   "source": [
    "# first, create a temporary data directory to store outputs\n",
    "td = os.path.join(wd, 'temp')\n",
    "if not os.path.exists(td):\n",
    "    os.mkdir(td)"
   ]
  },
  {
   "cell_type": "code",
   "execution_count": null,
   "metadata": {},
   "outputs": [],
   "source": [
    "# next, compute the sum of all height measurements\n",
    "height_sum_path = os.path.join(td, 'lvis-height-sum.tif')\n",
    "rasterize_options = gdal.RasterizeOptions(\n",
    "    format = 'GTiff',\n",
    "    outputType = gdal.GDT_Float32,\n",
    "    creationOptions = ['COMPRESS=DEFLATE', 'TILED=YES'],\n",
    "    noData = nodata,\n",
    "    initValues = 0,\n",
    "    xRes = raster.xps,\n",
    "    yRes = np.abs(raster.yps),\n",
    "    outputBounds = [\n",
    "        raster.xmin,\n",
    "        raster.ymin,\n",
    "        raster.xmax,\n",
    "        raster.ymax\n",
    "    ],\n",
    "    attribute = 'tree-heigh',\n",
    "    options = ['-add']\n",
    ")\n",
    "\n",
    "# then run the rasterization command\n",
    "print('computing sum of tree height values')\n",
    "print('estimated time: 30s')\n",
    "ref = gdal.Rasterize(\n",
    "    height_sum_path,\n",
    "    vector_path,\n",
    "    options = rasterize_options\n",
    ")\n",
    "\n",
    "# and write to disk\n",
    "ref.FlushCache()\n",
    "print('done!')"
   ]
  },
  {
   "cell_type": "code",
   "execution_count": null,
   "metadata": {},
   "outputs": [],
   "source": [
    "# next, compute the count of all height measurements\n",
    "height_count_path = os.path.join(td, 'lvis-height-count.tif')\n",
    "rasterize_options = gdal.RasterizeOptions(\n",
    "    format = 'GTiff',\n",
    "    outputType = gdal.GDT_Float32,\n",
    "    creationOptions = ['COMPRESS=DEFLATE', 'TILED=YES'],\n",
    "    noData = nodata,\n",
    "    initValues = 0,\n",
    "    xRes = raster.xps,\n",
    "    yRes = np.abs(raster.yps),\n",
    "    outputBounds = [\n",
    "        raster.xmin,\n",
    "        raster.ymin,\n",
    "        raster.xmax,\n",
    "        raster.ymax\n",
    "    ],\n",
    "    burnValues = [1],\n",
    "    options = ['-add']\n",
    ")\n",
    "\n",
    "# then run the rasterization command\n",
    "print('computing count of tree height values')\n",
    "print('estimated time: 30s')\n",
    "ref = gdal.Rasterize(\n",
    "    height_count_path,\n",
    "    vector_path,\n",
    "    options = rasterize_options\n",
    ")\n",
    "\n",
    "# and write to disk\n",
    "ref.FlushCache()\n",
    "print('done!')"
   ]
  },
  {
   "cell_type": "code",
   "execution_count": null,
   "metadata": {},
   "outputs": [],
   "source": [
    "# finally, divide the summed height by the number of measurements to get the average\n",
    "tree_height_path = os.path.join(wd, 'tree-height-lvis.tif')\n",
    "creation_options = \"&gdal:co:COMPRESS=DEFLATE&gdal:co:TILED=YES\"\n",
    "output_file = '{file}?{options}'.format(file = tree_height_path, options = creation_options)\n",
    "\n",
    "# create the band math expression\n",
    "expression = \"(im1b1 > 0 ? im1b1 / im2b1 : {nodata})\".format(nodata = nodata)\n",
    "\n",
    "# set up the orfeo toolbox command\n",
    "band_math = otb.Registry.CreateApplication(\"BandMath\")\n",
    "band_math.SetParameterStringList(\"il\", [height_sum_path, height_count_path])\n",
    "band_math.SetParameterString(\"out\", output_file)\n",
    "band_math.SetParameterString(\"exp\", expression)\n",
    "\n",
    "# run the command\n",
    "band_math.ExecuteAndWriteOutput()"
   ]
  },
  {
   "cell_type": "code",
   "execution_count": null,
   "metadata": {},
   "outputs": [],
   "source": [
    "# then manually set the no-data value\n",
    "ref = gdal.Open(tree_height_path, gdal.GA_Update)\n",
    "band = ref.GetRasterBand(1)\n",
    "band.SetNoDataValue(nodata)\n",
    "band.FlushCache()\n",
    "ref.FlushCache()\n",
    "band = None\n",
    "ref = None"
   ]
  },
  {
   "cell_type": "markdown",
   "metadata": {},
   "source": [
    "## Stacking and masking covariate data\n",
    "Since there are different no-data values, and different pixels with no-data, we'll consistently stack and mask all the data into a single big file. Hooray!\n",
    "\n",
    "### First, generate a comprehensive mask for all covariate data"
   ]
  },
  {
   "cell_type": "code",
   "execution_count": null,
   "metadata": {},
   "outputs": [],
   "source": [
    "# generate the tree cover mask\n",
    "tree_cover_path = os.path.join(wd, 'tree-cover.tif')\n",
    "tree_cover_mask = os.path.join(td, 'tree-cover-mask.tif?')\n",
    "output_raster = '{file}?{options}'.format(file = tree_cover_mask, options = creation_options)\n",
    "\n",
    "# set the otb command\n",
    "masking = otb.Registry.CreateApplication(\"ManageNoData\")\n",
    "masking.SetParameterString(\"in\", tree_cover_path)\n",
    "masking.SetParameterString(\"out\", tree_cover_mask)\n",
    "masking.SetParameterOutputImagePixelType(\"out\", 1)\n",
    "masking.SetParameterString(\"mode\", \"buildmask\")\n",
    "\n",
    "# run it\n",
    "masking.ExecuteAndWriteOutput()"
   ]
  },
  {
   "cell_type": "code",
   "execution_count": null,
   "metadata": {},
   "outputs": [],
   "source": [
    "# generate the fractional cover mask\n",
    "fractional_cover_path = os.path.join(wd, 'fcover.tif')\n",
    "fractional_cover_mask = os.path.join(td, 'fcover-mask.tif?')\n",
    "output_raster = '{file}?{options}'.format(file = fractional_cover_mask, options = creation_options)\n",
    "\n",
    "# set the otb command\n",
    "masking = otb.Registry.CreateApplication(\"ManageNoData\")\n",
    "masking.SetParameterString(\"in\", fractional_cover_path)\n",
    "masking.SetParameterString(\"out\", fractional_cover_mask)\n",
    "masking.SetParameterOutputImagePixelType(\"out\", 1)\n",
    "masking.SetParameterString(\"mode\", \"buildmask\")\n",
    "\n",
    "# run it\n",
    "masking.ExecuteAndWriteOutput()"
   ]
  },
  {
   "cell_type": "code",
   "execution_count": null,
   "metadata": {},
   "outputs": [],
   "source": [
    "# generate the radar mask\n",
    "radar_path = os.path.join(wd, 'radar.tif')\n",
    "radar_mask = os.path.join(td, 'radar-mask.tif?')\n",
    "output_raster = '{file}?{options}'.format(file = radar_mask, options = creation_options)\n",
    "\n",
    "# set the otb command\n",
    "masking = otb.Registry.CreateApplication(\"ManageNoData\")\n",
    "masking.SetParameterString(\"in\", radar_path)\n",
    "masking.SetParameterString(\"out\", radar_mask)\n",
    "masking.SetParameterOutputImagePixelType(\"out\", 1)\n",
    "masking.SetParameterString(\"mode\", \"buildmask\")\n",
    "masking.SetParameterValue(\"usenan\", True)\n",
    "\n",
    "# run it\n",
    "masking.ExecuteAndWriteOutput()"
   ]
  },
  {
   "cell_type": "code",
   "execution_count": null,
   "metadata": {},
   "outputs": [],
   "source": [
    "# and a mask for extreme radar values\n",
    "extreme_mask = os.path.join(td, 'radar-mask-extreme.tif?')\n",
    "output_raster = '{file}?{options}'.format(file = extreme_mask, options = creation_options)\n",
    "\n",
    "expression = \"(im1b2 < -100 ? 0 : 1) * (im1b1 > 100 ? 0 : 1)\"\n",
    "\n",
    "band_math = otb.Registry.CreateApplication(\"BandMath\")\n",
    "band_math.SetParameterStringList(\"il\", [radar_path])\n",
    "band_math.SetParameterString(\"out\", output_raster)\n",
    "masking.SetParameterOutputImagePixelType(\"out\", 1)\n",
    "band_math.SetParameterString(\"exp\", expression)\n",
    "\n",
    "band_math.ExecuteAndWriteOutput()"
   ]
  },
  {
   "cell_type": "code",
   "execution_count": null,
   "metadata": {},
   "outputs": [],
   "source": [
    "# now we'll create a single, comprehensive mask to apply\n",
    "final_mask = os.path.join(td, 'joint-mask.tif')\n",
    "output_raster = '{file}?{options}'.format(file = final_mask, options = creation_options)\n",
    "mask_files = [tree_cover_mask, radar_mask, extreme_mask]\n",
    "\n",
    "# auto generate the expression\n",
    "ims = [\"im{}b1\".format(i + 1) for i in range(len(mask_files))]\n",
    "expression = \" * \".join(ims)\n",
    "\n",
    "# create and run the otb app\n",
    "band_math = otb.Registry.CreateApplication(\"BandMath\")\n",
    "band_math.SetParameterStringList(\"il\", mask_files)\n",
    "band_math.SetParameterString(\"out\", output_raster)\n",
    "masking.SetParameterOutputImagePixelType(\"out\", 1)\n",
    "band_math.SetParameterString(\"exp\", expression)\n",
    "\n",
    "band_math.ExecuteAndWriteOutput()"
   ]
  },
  {
   "cell_type": "markdown",
   "metadata": {},
   "source": [
    "### Next, stack all covariate data into a single file and mask it\n",
    "This should take ~1 minute per cell"
   ]
  },
  {
   "cell_type": "code",
   "execution_count": 3,
   "metadata": {},
   "outputs": [
    {
     "name": "stdout",
     "output_type": "stream",
     "text": [
      "2020-05-17 20:55:10 (INFO) ConcatenateImages: Default RAM limit for OTB is 256 MB\n",
      "2020-05-17 20:55:10 (INFO) ConcatenateImages: GDAL maximum cache size is 801 MB\n",
      "2020-05-17 20:55:10 (INFO) ConcatenateImages: OTB will use at most 8 threads\n",
      "2020-05-17 20:55:10 (INFO): Estimated memory for full processing: 13075.7MB (avail.: 256 MB), optimal image partitioning: 52 blocks\n",
      "2020-05-17 20:55:10 (INFO): File data/temp/covariate-stack.tif will be written in 53 blocks of 12226x221 pixels\n",
      "2020-05-17 20:55:10 (INFO): Estimated memory for full processing: 9981.29MB (avail.: 256 MB), optimal image partitioning: 39 blocks\n",
      "Writing 1 output images ...: 100% [**************************************************] (3m 24s)\n"
     ]
    },
    {
     "data": {
      "text/plain": [
       "0"
      ]
     },
     "execution_count": 3,
     "metadata": {},
     "output_type": "execute_result"
    }
   ],
   "source": [
    "covariate_paths = [radar_path, tree_cover_path, fractional_cover_path]\n",
    "stacked_path = os.path.join(td, 'covariate-stack.tif')\n",
    "output_raster = '{file}?{options}'.format(file = stacked_path, options = creation_options)\n",
    "\n",
    "# otb\n",
    "concatenate = otb.Registry.CreateApplication(\"ConcatenateImages\")\n",
    "concatenate.SetParameterStringList(\"il\", covariate_paths)\n",
    "concatenate.SetParameterString(\"out\", output_raster)\n",
    "\n",
    "concatenate.ExecuteAndWriteOutput()\n",
    "\n",
    "# and manually set the no-data value\n",
    "ref = gdal.Open(stacked_path, gdal.GA_Update)\n",
    "band = ref.GetRasterBand(1)\n",
    "band.SetNoDataValue(nodata)\n",
    "band.FlushCache()\n",
    "ref.FlushCache()\n",
    "band = None\n",
    "ref = None"
   ]
  },
  {
   "cell_type": "code",
   "execution_count": 6,
   "metadata": {},
   "outputs": [],
   "source": [
    "# and manually set the no-data value\n",
    "ref = gdal.Open(stacked_path, gdal.GA_Update)\n",
    "band = ref.GetRasterBand(1)\n",
    "band.SetNoDataValue(nodata)\n",
    "band.FlushCache()\n",
    "ref.FlushCache()\n",
    "band = None\n",
    "ref = None"
   ]
  },
  {
   "cell_type": "code",
   "execution_count": 7,
   "metadata": {},
   "outputs": [
    {
     "name": "stdout",
     "output_type": "stream",
     "text": [
      "2020-05-17 21:06:22 (INFO) ManageNoData: Default RAM limit for OTB is 256 MB\n",
      "2020-05-17 21:06:22 (INFO) ManageNoData: GDAL maximum cache size is 801 MB\n",
      "2020-05-17 21:06:22 (INFO) ManageNoData: OTB will use at most 8 threads\n",
      "2020-05-17 21:06:22 (INFO): Estimated memory for full processing: 16480.9MB (avail.: 256 MB), optimal image partitioning: 65 blocks\n",
      "2020-05-17 21:06:22 (INFO): File data/covariate-stack.tif will be written in 64 blocks of 1536x1536 pixels\n",
      "2020-05-17 21:06:22 (INFO): Estimated memory for full processing: 13352.4MB (avail.: 256 MB), optimal image partitioning: 53 blocks\n",
      "Writing 1 output images ...: 100% [**************************************************] (3m 46s)\n"
     ]
    },
    {
     "data": {
      "text/plain": [
       "0"
      ]
     },
     "execution_count": 7,
     "metadata": {},
     "output_type": "execute_result"
    }
   ],
   "source": [
    "# then apply the full mask to the stacked covariates\n",
    "masked_path = os.path.join(wd, 'covariate-stack.tif')\n",
    "output_raster = '{file}?{options}'.format(file = masked_path, options = creation_options)\n",
    "\n",
    "masking = otb.Registry.CreateApplication(\"ManageNoData\")\n",
    "masking.SetParameterString(\"in\", stacked_path)\n",
    "masking.SetParameterString(\"out\", output_raster)\n",
    "masking.SetParameterString(\"mode\", \"apply\")\n",
    "masking.SetParameterString(\"mode.apply.mask\", final_mask)\n",
    "\n",
    "# run it\n",
    "masking.ExecuteAndWriteOutput()"
   ]
  },
  {
   "cell_type": "markdown",
   "metadata": {},
   "source": [
    "## Apply the covariate mask to the LVIS average tree height data\n",
    "This saves us time in reading/masking later in the `modeling` notebook"
   ]
  },
  {
   "cell_type": "code",
   "execution_count": 19,
   "metadata": {},
   "outputs": [
    {
     "name": "stdout",
     "output_type": "stream",
     "text": [
      "2020-05-17 21:59:24 (INFO) ManageNoData: Default RAM limit for OTB is 256 MB\n",
      "2020-05-17 21:59:24 (INFO) ManageNoData: GDAL maximum cache size is 801 MB\n",
      "2020-05-17 21:59:24 (INFO) ManageNoData: OTB will use at most 8 threads\n",
      "2020-05-17 21:59:24 (INFO): Estimated memory for full processing: 2860.32MB (avail.: 256 MB), optimal image partitioning: 12 blocks\n",
      "2020-05-17 21:59:24 (INFO): File data/tree-height-lvis-masked.tif will be written in 16 blocks of 3584x3328 pixels\n",
      "2020-05-17 21:59:24 (INFO): Estimated memory for full processing: 2564.78MB (avail.: 256 MB), optimal image partitioning: 11 blocks\n",
      "Writing 1 output images ...: 100% [**************************************************] (12s)\n"
     ]
    },
    {
     "data": {
      "text/plain": [
       "0"
      ]
     },
     "execution_count": 19,
     "metadata": {},
     "output_type": "execute_result"
    }
   ],
   "source": [
    "tree_height_path = os.path.join(wd, 'tree-height-lvis.tif')\n",
    "\n",
    "# set the output path\n",
    "tree_height_masked = tree_height_path[:-4] + '-masked.tif'\n",
    "output_raster = '{file}?{options}'.format(file = tree_height_masked, options = creation_options)\n",
    "\n",
    "# set up otb\n",
    "masking = otb.Registry.CreateApplication(\"ManageNoData\")\n",
    "masking.SetParameterString(\"in\", tree_height_path)\n",
    "masking.SetParameterString(\"out\", output_raster)\n",
    "masking.SetParameterString(\"mode\", \"apply\")\n",
    "masking.SetParameterString(\"mode.apply.mask\", final_mask)\n",
    "\n",
    "# run it\n",
    "masking.ExecuteAndWriteOutput()"
   ]
  },
  {
   "cell_type": "markdown",
   "metadata": {},
   "source": [
    "## Split the stacked covariate data into tiles\n",
    "Since the covariate dataset is very large, applying the model in-memory won't work unless you're sporting some beefy RAM. \n",
    "\n",
    "To get around this, we'll chunk the data up into smaller tiles and apply the model to those instead."
   ]
  },
  {
   "cell_type": "code",
   "execution_count": 15,
   "metadata": {},
   "outputs": [],
   "source": [
    "# create a tile directory\n",
    "tile_directory = os.path.join(wd, 'tiles')\n",
    "if not os.path.exists(tile_directory):\n",
    "    os.mkdir(tile_directory)"
   ]
  },
  {
   "cell_type": "code",
   "execution_count": 16,
   "metadata": {},
   "outputs": [],
   "source": [
    "# calculate how many tiles we have to create\n",
    "width = raster.xmax - raster.xmin\n",
    "height = raster.ymax - raster.ymin\n",
    "nx_tiles = np.floor(width / tile_size)\n",
    "ny_tiles = np.floor(height / tile_size)\n",
    "\n",
    "# set tile lower left coordinates in geographic space\n",
    "xmins = (np.arange(nx_tiles) * tile_size) + raster.xmin\n",
    "ymins = (np.arange(ny_tiles) * tile_size) + raster.ymin"
   ]
  },
  {
   "cell_type": "code",
   "execution_count": 17,
   "metadata": {},
   "outputs": [
    {
     "name": "stdout",
     "output_type": "stream",
     "text": [
      "Running tile x: 000 / 358 and y: 000 / 342\n",
      "Running tile x: 000 / 358 and y: 050 / 342\n",
      "Running tile x: 000 / 358 and y: 100 / 342\n",
      "Running tile x: 000 / 358 and y: 150 / 342\n",
      "Running tile x: 000 / 358 and y: 200 / 342\n",
      "Running tile x: 000 / 358 and y: 250 / 342\n",
      "Running tile x: 000 / 358 and y: 300 / 342\n",
      "Running tile x: 050 / 358 and y: 000 / 342\n",
      "Running tile x: 050 / 358 and y: 050 / 342\n",
      "Running tile x: 050 / 358 and y: 100 / 342\n",
      "Running tile x: 050 / 358 and y: 150 / 342\n",
      "Running tile x: 050 / 358 and y: 200 / 342\n",
      "Running tile x: 050 / 358 and y: 250 / 342\n",
      "Running tile x: 050 / 358 and y: 300 / 342\n",
      "Running tile x: 100 / 358 and y: 000 / 342\n",
      "Running tile x: 100 / 358 and y: 050 / 342\n",
      "Running tile x: 100 / 358 and y: 100 / 342\n",
      "Running tile x: 100 / 358 and y: 150 / 342\n",
      "Running tile x: 100 / 358 and y: 200 / 342\n",
      "Running tile x: 100 / 358 and y: 250 / 342\n",
      "Running tile x: 100 / 358 and y: 300 / 342\n",
      "Running tile x: 150 / 358 and y: 000 / 342\n",
      "Running tile x: 150 / 358 and y: 050 / 342\n",
      "Running tile x: 150 / 358 and y: 100 / 342\n",
      "Running tile x: 150 / 358 and y: 150 / 342\n",
      "Running tile x: 150 / 358 and y: 200 / 342\n",
      "Running tile x: 150 / 358 and y: 250 / 342\n",
      "Running tile x: 150 / 358 and y: 300 / 342\n",
      "Running tile x: 200 / 358 and y: 000 / 342\n",
      "Running tile x: 200 / 358 and y: 050 / 342\n",
      "Running tile x: 200 / 358 and y: 100 / 342\n",
      "Running tile x: 200 / 358 and y: 150 / 342\n",
      "Running tile x: 200 / 358 and y: 200 / 342\n",
      "Running tile x: 200 / 358 and y: 250 / 342\n",
      "Running tile x: 200 / 358 and y: 300 / 342\n"
     ]
    },
    {
     "ename": "SystemError",
     "evalue": "<built-in function wrapper_GDALWarpDestName> returned a result with an error set",
     "output_type": "error",
     "traceback": [
      "\u001b[1;31m---------------------------------------------------------------------------\u001b[0m",
      "\u001b[1;31mKeyboardInterrupt\u001b[0m                         Traceback (most recent call last)",
      "\u001b[1;32m~/src/miniconda3/envs/carbono/lib/python3.7/site-packages/osgeo/gdal.py\u001b[0m in \u001b[0;36m<lambda>\u001b[1;34m(self, name, value)\u001b[0m\n\u001b[0;32m   2009\u001b[0m         \u001b[0m__swig_setmethods__\u001b[0m\u001b[1;33m.\u001b[0m\u001b[0mupdate\u001b[0m\u001b[1;33m(\u001b[0m\u001b[0mgetattr\u001b[0m\u001b[1;33m(\u001b[0m\u001b[0m_s\u001b[0m\u001b[1;33m,\u001b[0m \u001b[1;34m'__swig_setmethods__'\u001b[0m\u001b[1;33m,\u001b[0m \u001b[1;33m{\u001b[0m\u001b[1;33m}\u001b[0m\u001b[1;33m)\u001b[0m\u001b[1;33m)\u001b[0m\u001b[1;33m\u001b[0m\u001b[1;33m\u001b[0m\u001b[0m\n\u001b[1;32m-> 2010\u001b[1;33m     \u001b[0m__setattr__\u001b[0m \u001b[1;33m=\u001b[0m \u001b[1;32mlambda\u001b[0m \u001b[0mself\u001b[0m\u001b[1;33m,\u001b[0m \u001b[0mname\u001b[0m\u001b[1;33m,\u001b[0m \u001b[0mvalue\u001b[0m\u001b[1;33m:\u001b[0m \u001b[0m_swig_setattr\u001b[0m\u001b[1;33m(\u001b[0m\u001b[0mself\u001b[0m\u001b[1;33m,\u001b[0m \u001b[0mDataset\u001b[0m\u001b[1;33m,\u001b[0m \u001b[0mname\u001b[0m\u001b[1;33m,\u001b[0m \u001b[0mvalue\u001b[0m\u001b[1;33m)\u001b[0m\u001b[1;33m\u001b[0m\u001b[1;33m\u001b[0m\u001b[0m\n\u001b[0m\u001b[0;32m   2011\u001b[0m     \u001b[0m__swig_getmethods__\u001b[0m \u001b[1;33m=\u001b[0m \u001b[1;33m{\u001b[0m\u001b[1;33m}\u001b[0m\u001b[1;33m\u001b[0m\u001b[1;33m\u001b[0m\u001b[0m\n",
      "\u001b[1;31mKeyboardInterrupt\u001b[0m: ",
      "\nThe above exception was the direct cause of the following exception:\n",
      "\u001b[1;31mSystemError\u001b[0m                               Traceback (most recent call last)",
      "\u001b[1;32m<ipython-input-17-a089604f84bc>\u001b[0m in \u001b[0;36m<module>\u001b[1;34m\u001b[0m\n\u001b[0;32m     36\u001b[0m             \u001b[0mwarp_output\u001b[0m\u001b[1;33m,\u001b[0m\u001b[1;33m\u001b[0m\u001b[1;33m\u001b[0m\u001b[0m\n\u001b[0;32m     37\u001b[0m             \u001b[0mmasked_path\u001b[0m\u001b[1;33m,\u001b[0m\u001b[1;33m\u001b[0m\u001b[1;33m\u001b[0m\u001b[0m\n\u001b[1;32m---> 38\u001b[1;33m             \u001b[0moptions\u001b[0m \u001b[1;33m=\u001b[0m \u001b[0mwarp_options\u001b[0m\u001b[1;33m\u001b[0m\u001b[1;33m\u001b[0m\u001b[0m\n\u001b[0m\u001b[0;32m     39\u001b[0m         )\n",
      "\u001b[1;32m~/src/miniconda3/envs/carbono/lib/python3.7/site-packages/osgeo/gdal.py\u001b[0m in \u001b[0;36mWarp\u001b[1;34m(destNameOrDestDS, srcDSOrSrcDSTab, **kwargs)\u001b[0m\n\u001b[0;32m    599\u001b[0m \u001b[1;33m\u001b[0m\u001b[0m\n\u001b[0;32m    600\u001b[0m     \u001b[1;32mif\u001b[0m \u001b[0m_is_str_or_unicode\u001b[0m\u001b[1;33m(\u001b[0m\u001b[0mdestNameOrDestDS\u001b[0m\u001b[1;33m)\u001b[0m\u001b[1;33m:\u001b[0m\u001b[1;33m\u001b[0m\u001b[1;33m\u001b[0m\u001b[0m\n\u001b[1;32m--> 601\u001b[1;33m         \u001b[1;32mreturn\u001b[0m \u001b[0mwrapper_GDALWarpDestName\u001b[0m\u001b[1;33m(\u001b[0m\u001b[0mdestNameOrDestDS\u001b[0m\u001b[1;33m,\u001b[0m \u001b[0msrcDSTab\u001b[0m\u001b[1;33m,\u001b[0m \u001b[0mopts\u001b[0m\u001b[1;33m,\u001b[0m \u001b[0mcallback\u001b[0m\u001b[1;33m,\u001b[0m \u001b[0mcallback_data\u001b[0m\u001b[1;33m)\u001b[0m\u001b[1;33m\u001b[0m\u001b[1;33m\u001b[0m\u001b[0m\n\u001b[0m\u001b[0;32m    602\u001b[0m     \u001b[1;32melse\u001b[0m\u001b[1;33m:\u001b[0m\u001b[1;33m\u001b[0m\u001b[1;33m\u001b[0m\u001b[0m\n\u001b[0;32m    603\u001b[0m         \u001b[1;32mreturn\u001b[0m \u001b[0mwrapper_GDALWarpDestDS\u001b[0m\u001b[1;33m(\u001b[0m\u001b[0mdestNameOrDestDS\u001b[0m\u001b[1;33m,\u001b[0m \u001b[0msrcDSTab\u001b[0m\u001b[1;33m,\u001b[0m \u001b[0mopts\u001b[0m\u001b[1;33m,\u001b[0m \u001b[0mcallback\u001b[0m\u001b[1;33m,\u001b[0m \u001b[0mcallback_data\u001b[0m\u001b[1;33m)\u001b[0m\u001b[1;33m\u001b[0m\u001b[1;33m\u001b[0m\u001b[0m\n",
      "\u001b[1;32m~/src/miniconda3/envs/carbono/lib/python3.7/site-packages/osgeo/gdal.py\u001b[0m in \u001b[0;36mwrapper_GDALWarpDestName\u001b[1;34m(*args)\u001b[0m\n\u001b[0;32m   3351\u001b[0m \u001b[1;32mdef\u001b[0m \u001b[0mwrapper_GDALWarpDestName\u001b[0m\u001b[1;33m(\u001b[0m\u001b[1;33m*\u001b[0m\u001b[0margs\u001b[0m\u001b[1;33m)\u001b[0m\u001b[1;33m:\u001b[0m\u001b[1;33m\u001b[0m\u001b[1;33m\u001b[0m\u001b[0m\n\u001b[0;32m   3352\u001b[0m     \u001b[1;34m\"\"\"wrapper_GDALWarpDestName(char const * dest, int object_list_count, GDALWarpAppOptions warpAppOptions, GDALProgressFunc callback=0, void * callback_data=None) -> Dataset\"\"\"\u001b[0m\u001b[1;33m\u001b[0m\u001b[1;33m\u001b[0m\u001b[0m\n\u001b[1;32m-> 3353\u001b[1;33m     \u001b[1;32mreturn\u001b[0m \u001b[0m_gdal\u001b[0m\u001b[1;33m.\u001b[0m\u001b[0mwrapper_GDALWarpDestName\u001b[0m\u001b[1;33m(\u001b[0m\u001b[1;33m*\u001b[0m\u001b[0margs\u001b[0m\u001b[1;33m)\u001b[0m\u001b[1;33m\u001b[0m\u001b[1;33m\u001b[0m\u001b[0m\n\u001b[0m\u001b[0;32m   3354\u001b[0m \u001b[1;32mclass\u001b[0m \u001b[0mGDALVectorTranslateOptions\u001b[0m\u001b[1;33m(\u001b[0m\u001b[0m_object\u001b[0m\u001b[1;33m)\u001b[0m\u001b[1;33m:\u001b[0m\u001b[1;33m\u001b[0m\u001b[1;33m\u001b[0m\u001b[0m\n\u001b[0;32m   3355\u001b[0m     \u001b[1;34m\"\"\"Proxy of C++ GDALVectorTranslateOptions class.\"\"\"\u001b[0m\u001b[1;33m\u001b[0m\u001b[1;33m\u001b[0m\u001b[0m\n",
      "\u001b[1;31mSystemError\u001b[0m: <built-in function wrapper_GDALWarpDestName> returned a result with an error set"
     ]
    }
   ],
   "source": [
    "# loop through each of these lower left corners, set the tile boundaries, and use gdal warp to clip each one out\n",
    "for x, xmin in enumerate(xmins):\n",
    "    for y, ymin in enumerate(ymins):\n",
    "        \n",
    "        # report progress\n",
    "        if (x % 50 == 0) and (y % 50 == 0):\n",
    "            print(\"Running tile x: {x:03d} / {nx:03d} and y: {y:03d} / {ny:03d}\".format(\n",
    "                x = int(x), \n",
    "                y = int(y),\n",
    "                nx = int(len(xmins)),\n",
    "                ny = int(len(ymins))\n",
    "            ))\n",
    "            \n",
    "        # set the tile name\n",
    "        warp_output = os.path.join(tile_directory, \"covariates-{x:03d}-{y:03d}.tif\".format(x = int(x), y = int(y)))\n",
    "        \n",
    "        # set the max tile bounds\n",
    "        xmax = xmin + tile_size\n",
    "        ymax = ymin + tile_size\n",
    "        \n",
    "        # set the warp options\n",
    "        warp_options = gdal.WarpOptions(\n",
    "            format = 'GTiff',\n",
    "            creationOptions = ['COMPRESS=DEFLATE', 'TILED=YES'],\n",
    "            outputBounds = [\n",
    "                xmin,\n",
    "                ymin,\n",
    "                xmax,\n",
    "                ymax\n",
    "            ],\n",
    "            resampleAlg = gdal.GRA_NearestNeighbour\n",
    "        )\n",
    "        \n",
    "        # run the operation\n",
    "        gdal.Warp(\n",
    "            warp_output,\n",
    "            masked_path,\n",
    "            options = warp_options\n",
    "        )"
   ]
  },
  {
   "cell_type": "code",
   "execution_count": null,
   "metadata": {},
   "outputs": [],
   "source": [
    "# then make a pass on each file and delete it if there are no good data values inside\n",
    "for x, xmin in enumerate(xmins):\n",
    "    for y, ymin in enumerate(ymins):\n",
    "        \n",
    "        # get the file name\n",
    "        tile_path = os.path.join(tile_directory, \"covariates-{x:03d}-{y:03d}.tif\".format(x = int(x), y = int(y)))\n",
    "        \n",
    "        # read the data into memory\n",
    "        tile = ccb.read.raster(tile_path)\n",
    "        tile.read_band(1)\n",
    "        \n",
    "        # see if every value is no-data, and delete if so\n",
    "        nd = tile.data == tile.nodata\n",
    "        if nd.sum() == (tile.nx * tile.ny):\n",
    "            os.remove(tile_path)"
   ]
  }
 ],
 "metadata": {
  "kernelspec": {
   "display_name": "Python 3",
   "language": "python",
   "name": "python3"
  },
  "language_info": {
   "codemirror_mode": {
    "name": "ipython",
    "version": 3
   },
   "file_extension": ".py",
   "mimetype": "text/x-python",
   "name": "python",
   "nbconvert_exporter": "python",
   "pygments_lexer": "ipython3",
   "version": "3.7.6"
  }
 },
 "nbformat": 4,
 "nbformat_minor": 4
}
